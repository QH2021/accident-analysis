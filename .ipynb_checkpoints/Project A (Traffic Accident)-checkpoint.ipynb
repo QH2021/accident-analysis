{
 "cells": [
  {
   "cell_type": "markdown",
   "metadata": {},
   "source": [
    "# 1. Importing dataset and data preprocessing"
   ]
  },
  {
   "cell_type": "code",
   "execution_count": 3,
   "metadata": {},
   "outputs": [
    {
     "data": {
      "text/html": [
       "<script>requirejs.config({paths: { 'plotly': ['https://cdn.plot.ly/plotly-latest.min']},});if(!window.Plotly) {{require(['plotly'],function(plotly) {window.Plotly=plotly;});}}</script>"
      ],
      "text/vnd.plotly.v1+html": [
       "<script>requirejs.config({paths: { 'plotly': ['https://cdn.plot.ly/plotly-latest.min']},});if(!window.Plotly) {{require(['plotly'],function(plotly) {window.Plotly=plotly;});}}</script>"
      ]
     },
     "metadata": {},
     "output_type": "display_data"
    }
   ],
   "source": [
    "# import modules for data manipulation and visual presentation\n",
    "import pandas as pd\n",
    "import numpy as np\n",
    "from scipy.optimize import curve_fit\n",
    "import seaborn as sns\n",
    "\n",
    "import plotly.offline as py\n",
    "py.init_notebook_mode(connected=True)\n",
    "import plotly.graph_objs as go\n",
    "import plotly.tools as tls\n",
    "%matplotlib inline\n",
    "\n",
    "\n",
    "import matplotlib.pyplot as plt\n"
   ]
  },
  {
   "cell_type": "markdown",
   "metadata": {},
   "source": [
    "### 1.2 Import Dataset"
   ]
  },
  {
   "cell_type": "code",
   "execution_count": 4,
   "metadata": {
    "scrolled": true
   },
   "outputs": [],
   "source": [
    "# Read csv file and store dataset into a dataframe called \"df\"\n",
    "\n",
    "project = pd.read_excel(\"C:/Users/Ken/Downloads/Road_Accident.xlsx\", index_col=None)"
   ]
  },
  {
   "cell_type": "markdown",
   "metadata": {},
   "source": [
    "### 1.2 Summarize the Dataset"
   ]
  },
  {
   "cell_type": "code",
   "execution_count": 18,
   "metadata": {},
   "outputs": [
    {
     "data": {
      "text/html": [
       "<div>\n",
       "<style>\n",
       "    .dataframe thead tr:only-child th {\n",
       "        text-align: right;\n",
       "    }\n",
       "\n",
       "    .dataframe thead th {\n",
       "        text-align: left;\n",
       "    }\n",
       "\n",
       "    .dataframe tbody tr th {\n",
       "        vertical-align: top;\n",
       "    }\n",
       "</style>\n",
       "<table border=\"1\" class=\"dataframe\">\n",
       "  <thead>\n",
       "    <tr style=\"text-align: right;\">\n",
       "      <th></th>\n",
       "      <th>date</th>\n",
       "      <th>time</th>\n",
       "      <th>accident_type</th>\n",
       "      <th>light_condition</th>\n",
       "      <th>road_geometry</th>\n",
       "      <th>severity_type</th>\n",
       "      <th>speed_zone</th>\n",
       "      <th>longitude</th>\n",
       "      <th>latitude</th>\n",
       "      <th>local_gov</th>\n",
       "      <th>region</th>\n",
       "      <th>year</th>\n",
       "      <th>month</th>\n",
       "      <th>hour</th>\n",
       "      <th>minute</th>\n",
       "    </tr>\n",
       "  </thead>\n",
       "  <tbody>\n",
       "    <tr>\n",
       "      <th>0</th>\n",
       "      <td>2011-01-01</td>\n",
       "      <td>01:06:00</td>\n",
       "      <td>Struck pedestrian</td>\n",
       "      <td>Dark street lights on</td>\n",
       "      <td>'T' Intersection</td>\n",
       "      <td>Other injury accident</td>\n",
       "      <td>60</td>\n",
       "      <td>145.108388</td>\n",
       "      <td>-38.038460</td>\n",
       "      <td>KINGSTON</td>\n",
       "      <td>METROPOLITAN SOUTH EAST REGION</td>\n",
       "      <td>2011</td>\n",
       "      <td>1</td>\n",
       "      <td>1</td>\n",
       "      <td>6</td>\n",
       "    </tr>\n",
       "    <tr>\n",
       "      <th>1</th>\n",
       "      <td>2011-01-01</td>\n",
       "      <td>00:15:00</td>\n",
       "      <td>Collision with a fixed object</td>\n",
       "      <td>Dark street lights on</td>\n",
       "      <td>Cross intersection</td>\n",
       "      <td>Serious injury accident</td>\n",
       "      <td>50</td>\n",
       "      <td>145.098231</td>\n",
       "      <td>-37.702725</td>\n",
       "      <td>BANYULE</td>\n",
       "      <td>METROPOLITAN NORTH WEST REGION</td>\n",
       "      <td>2011</td>\n",
       "      <td>1</td>\n",
       "      <td>0</td>\n",
       "      <td>15</td>\n",
       "    </tr>\n",
       "    <tr>\n",
       "      <th>2</th>\n",
       "      <td>2011-01-01</td>\n",
       "      <td>04:28:00</td>\n",
       "      <td>Struck pedestrian</td>\n",
       "      <td>Dark street lights on</td>\n",
       "      <td>Not at intersection</td>\n",
       "      <td>Serious injury accident</td>\n",
       "      <td>70</td>\n",
       "      <td>145.268932</td>\n",
       "      <td>-38.027816</td>\n",
       "      <td>CASEY</td>\n",
       "      <td>METROPOLITAN SOUTH EAST REGION</td>\n",
       "      <td>2011</td>\n",
       "      <td>1</td>\n",
       "      <td>4</td>\n",
       "      <td>28</td>\n",
       "    </tr>\n",
       "    <tr>\n",
       "      <th>3</th>\n",
       "      <td>2011-01-01</td>\n",
       "      <td>01:07:00</td>\n",
       "      <td>Struck pedestrian</td>\n",
       "      <td>Dark no street lights</td>\n",
       "      <td>Not at intersection</td>\n",
       "      <td>Fatal accident</td>\n",
       "      <td>60</td>\n",
       "      <td>144.132820</td>\n",
       "      <td>-36.736139</td>\n",
       "      <td>BENDIGO</td>\n",
       "      <td>NORTHERN REGION</td>\n",
       "      <td>2011</td>\n",
       "      <td>1</td>\n",
       "      <td>1</td>\n",
       "      <td>7</td>\n",
       "    </tr>\n",
       "    <tr>\n",
       "      <th>4</th>\n",
       "      <td>2011-01-01</td>\n",
       "      <td>11:54:00</td>\n",
       "      <td>Collision with a fixed object</td>\n",
       "      <td>Day</td>\n",
       "      <td>Not at intersection</td>\n",
       "      <td>Serious injury accident</td>\n",
       "      <td>50</td>\n",
       "      <td>145.231654</td>\n",
       "      <td>-37.878448</td>\n",
       "      <td>KNOX</td>\n",
       "      <td>METROPOLITAN SOUTH EAST REGION</td>\n",
       "      <td>2011</td>\n",
       "      <td>1</td>\n",
       "      <td>11</td>\n",
       "      <td>54</td>\n",
       "    </tr>\n",
       "  </tbody>\n",
       "</table>\n",
       "</div>"
      ],
      "text/plain": [
       "        date      time                  accident_type        light_condition  \\\n",
       "0 2011-01-01  01:06:00              Struck pedestrian  Dark street lights on   \n",
       "1 2011-01-01  00:15:00  Collision with a fixed object  Dark street lights on   \n",
       "2 2011-01-01  04:28:00              Struck pedestrian  Dark street lights on   \n",
       "3 2011-01-01  01:07:00              Struck pedestrian  Dark no street lights   \n",
       "4 2011-01-01  11:54:00  Collision with a fixed object                    Day   \n",
       "\n",
       "         road_geometry            severity_type  speed_zone   longitude  \\\n",
       "0     'T' Intersection    Other injury accident          60  145.108388   \n",
       "1   Cross intersection  Serious injury accident          50  145.098231   \n",
       "2  Not at intersection  Serious injury accident          70  145.268932   \n",
       "3  Not at intersection           Fatal accident          60  144.132820   \n",
       "4  Not at intersection  Serious injury accident          50  145.231654   \n",
       "\n",
       "    latitude local_gov                          region  year  month  hour  \\\n",
       "0 -38.038460  KINGSTON  METROPOLITAN SOUTH EAST REGION  2011      1     1   \n",
       "1 -37.702725   BANYULE  METROPOLITAN NORTH WEST REGION  2011      1     0   \n",
       "2 -38.027816     CASEY  METROPOLITAN SOUTH EAST REGION  2011      1     4   \n",
       "3 -36.736139   BENDIGO                 NORTHERN REGION  2011      1     1   \n",
       "4 -37.878448      KNOX  METROPOLITAN SOUTH EAST REGION  2011      1    11   \n",
       "\n",
       "   minute  \n",
       "0       6  \n",
       "1      15  \n",
       "2      28  \n",
       "3       7  \n",
       "4      54  "
      ]
     },
     "execution_count": 18,
     "metadata": {},
     "output_type": "execute_result"
    }
   ],
   "source": [
    "project.head(5)"
   ]
  },
  {
   "cell_type": "markdown",
   "metadata": {},
   "source": [
    "### 1.3 Data preprocessing"
   ]
  },
  {
   "cell_type": "markdown",
   "metadata": {},
   "source": [
    "NOTE: Dropping columns that are not useful, before we start any operations on the data frame."
   ]
  },
  {
   "cell_type": "code",
   "execution_count": 6,
   "metadata": {
    "collapsed": true
   },
   "outputs": [],
   "source": [
    "# Dropping columns that are not useful in the analysis\n",
    "project.drop(['ACCIDENT_NO','DCA_CODE_DESCRIPTION','DCA_CODE_TYPE','NO_PERSONS_INVOLVED','NO_PERSONS_KILLED',\n",
    "              'NO_PERSONS_INJ_SERIOUS','NO_PERSONS_INJ_MEDICAL_ATTENTION','NO_PERSONS_NOT_INJ','NO_OF_VEHICLES',\n",
    "              'POLICE_ATTEND_DESCRIPTION','SEVERITY','LOCATION_TYPE','LOCALS_INVOLVED','ROAD_NAME_1','ROAD_TYPE_1',\n",
    "              'ROAD_NAME_2','ROAD_TYPE_2','DIRECTION_LOCATION','DIRECTORY','EDITION','PAGE','GRID_REFERENCE_X',\n",
    "              'GRID_REFERENCE_Y'], axis=1, inplace=True)"
   ]
  },
  {
   "cell_type": "markdown",
   "metadata": {},
   "source": [
    "#### NOTE: Renaming certain columns for better readability "
   ]
  },
  {
   "cell_type": "code",
   "execution_count": 7,
   "metadata": {
    "collapsed": true
   },
   "outputs": [],
   "source": [
    "# Renaming certain columns for better readability \n",
    "project.rename(columns={'ACCIDENT_DATE': 'date','ACCIDENT_TIME': 'time',\n",
    "                        'ACCIDENT_DESCRIPTION': 'accident_type',\n",
    "                        'LIGHT_CONDITION_DESCRIPTION': 'light_condition',\n",
    "                        'ROAD_GEOMETRY_DESCRIPTION': 'road_geometry',\n",
    "                        'SEVERITY_DESCRIPTION':'severity_type',\n",
    "                        'SPEED_ZONE':'speed_zone',\n",
    "                        'LON': 'longitude',\n",
    "                        'LAT': 'latitude',\n",
    "                        'LGA_NAME': 'local_gov',\n",
    "                        'REGION_NAME': 'region'                   \n",
    "                        }, inplace=True)"
   ]
  },
  {
   "cell_type": "markdown",
   "metadata": {},
   "source": [
    "#### NOTE: Rearranging columns for better understanding"
   ]
  },
  {
   "cell_type": "code",
   "execution_count": 10,
   "metadata": {
    "collapsed": true
   },
   "outputs": [],
   "source": [
    "# Divide data by years and months\n",
    "project['date'] = pd.to_datetime(project['date'])\n",
    "project['year'], project['month'] = project['date'].dt.year, project['date'].dt.month\n",
    "\n",
    "# Split Time into Hour and Minutes \n",
    "project['hour'] = pd.to_datetime(project['time'], format='%H:%M:%S').dt.hour\n",
    "project['minute'] = pd.to_datetime(project['time'], format='%H:%M:%S').dt.minute\n"
   ]
  },
  {
   "cell_type": "code",
   "execution_count": 14,
   "metadata": {},
   "outputs": [
    {
     "data": {
      "text/html": [
       "<div>\n",
       "<style>\n",
       "    .dataframe thead tr:only-child th {\n",
       "        text-align: right;\n",
       "    }\n",
       "\n",
       "    .dataframe thead th {\n",
       "        text-align: left;\n",
       "    }\n",
       "\n",
       "    .dataframe tbody tr th {\n",
       "        vertical-align: top;\n",
       "    }\n",
       "</style>\n",
       "<table border=\"1\" class=\"dataframe\">\n",
       "  <thead>\n",
       "    <tr style=\"text-align: right;\">\n",
       "      <th></th>\n",
       "      <th>date</th>\n",
       "      <th>time</th>\n",
       "      <th>accident_type</th>\n",
       "      <th>light_condition</th>\n",
       "      <th>road_geometry</th>\n",
       "      <th>severity_type</th>\n",
       "      <th>speed_zone</th>\n",
       "      <th>longitude</th>\n",
       "      <th>latitude</th>\n",
       "      <th>local_gov</th>\n",
       "      <th>region</th>\n",
       "      <th>year</th>\n",
       "      <th>month</th>\n",
       "      <th>hour</th>\n",
       "      <th>minute</th>\n",
       "    </tr>\n",
       "  </thead>\n",
       "  <tbody>\n",
       "    <tr>\n",
       "      <th>0</th>\n",
       "      <td>2011-01-01</td>\n",
       "      <td>01:06:00</td>\n",
       "      <td>Struck pedestrian</td>\n",
       "      <td>Dark street lights on</td>\n",
       "      <td>'T' Intersection</td>\n",
       "      <td>Other injury accident</td>\n",
       "      <td>60</td>\n",
       "      <td>145.108388</td>\n",
       "      <td>-38.038460</td>\n",
       "      <td>KINGSTON</td>\n",
       "      <td>METROPOLITAN SOUTH EAST REGION</td>\n",
       "      <td>2011</td>\n",
       "      <td>1</td>\n",
       "      <td>1</td>\n",
       "      <td>6</td>\n",
       "    </tr>\n",
       "    <tr>\n",
       "      <th>1</th>\n",
       "      <td>2011-01-01</td>\n",
       "      <td>00:15:00</td>\n",
       "      <td>Collision with a fixed object</td>\n",
       "      <td>Dark street lights on</td>\n",
       "      <td>Cross intersection</td>\n",
       "      <td>Serious injury accident</td>\n",
       "      <td>50</td>\n",
       "      <td>145.098231</td>\n",
       "      <td>-37.702725</td>\n",
       "      <td>BANYULE</td>\n",
       "      <td>METROPOLITAN NORTH WEST REGION</td>\n",
       "      <td>2011</td>\n",
       "      <td>1</td>\n",
       "      <td>0</td>\n",
       "      <td>15</td>\n",
       "    </tr>\n",
       "    <tr>\n",
       "      <th>2</th>\n",
       "      <td>2011-01-01</td>\n",
       "      <td>04:28:00</td>\n",
       "      <td>Struck pedestrian</td>\n",
       "      <td>Dark street lights on</td>\n",
       "      <td>Not at intersection</td>\n",
       "      <td>Serious injury accident</td>\n",
       "      <td>70</td>\n",
       "      <td>145.268932</td>\n",
       "      <td>-38.027816</td>\n",
       "      <td>CASEY</td>\n",
       "      <td>METROPOLITAN SOUTH EAST REGION</td>\n",
       "      <td>2011</td>\n",
       "      <td>1</td>\n",
       "      <td>4</td>\n",
       "      <td>28</td>\n",
       "    </tr>\n",
       "    <tr>\n",
       "      <th>3</th>\n",
       "      <td>2011-01-01</td>\n",
       "      <td>01:07:00</td>\n",
       "      <td>Struck pedestrian</td>\n",
       "      <td>Dark no street lights</td>\n",
       "      <td>Not at intersection</td>\n",
       "      <td>Fatal accident</td>\n",
       "      <td>60</td>\n",
       "      <td>144.132820</td>\n",
       "      <td>-36.736139</td>\n",
       "      <td>BENDIGO</td>\n",
       "      <td>NORTHERN REGION</td>\n",
       "      <td>2011</td>\n",
       "      <td>1</td>\n",
       "      <td>1</td>\n",
       "      <td>7</td>\n",
       "    </tr>\n",
       "    <tr>\n",
       "      <th>4</th>\n",
       "      <td>2011-01-01</td>\n",
       "      <td>11:54:00</td>\n",
       "      <td>Collision with a fixed object</td>\n",
       "      <td>Day</td>\n",
       "      <td>Not at intersection</td>\n",
       "      <td>Serious injury accident</td>\n",
       "      <td>50</td>\n",
       "      <td>145.231654</td>\n",
       "      <td>-37.878448</td>\n",
       "      <td>KNOX</td>\n",
       "      <td>METROPOLITAN SOUTH EAST REGION</td>\n",
       "      <td>2011</td>\n",
       "      <td>1</td>\n",
       "      <td>11</td>\n",
       "      <td>54</td>\n",
       "    </tr>\n",
       "  </tbody>\n",
       "</table>\n",
       "</div>"
      ],
      "text/plain": [
       "        date      time                  accident_type        light_condition  \\\n",
       "0 2011-01-01  01:06:00              Struck pedestrian  Dark street lights on   \n",
       "1 2011-01-01  00:15:00  Collision with a fixed object  Dark street lights on   \n",
       "2 2011-01-01  04:28:00              Struck pedestrian  Dark street lights on   \n",
       "3 2011-01-01  01:07:00              Struck pedestrian  Dark no street lights   \n",
       "4 2011-01-01  11:54:00  Collision with a fixed object                    Day   \n",
       "\n",
       "         road_geometry            severity_type  speed_zone   longitude  \\\n",
       "0     'T' Intersection    Other injury accident          60  145.108388   \n",
       "1   Cross intersection  Serious injury accident          50  145.098231   \n",
       "2  Not at intersection  Serious injury accident          70  145.268932   \n",
       "3  Not at intersection           Fatal accident          60  144.132820   \n",
       "4  Not at intersection  Serious injury accident          50  145.231654   \n",
       "\n",
       "    latitude local_gov                          region  year  month  hour  \\\n",
       "0 -38.038460  KINGSTON  METROPOLITAN SOUTH EAST REGION  2011      1     1   \n",
       "1 -37.702725   BANYULE  METROPOLITAN NORTH WEST REGION  2011      1     0   \n",
       "2 -38.027816     CASEY  METROPOLITAN SOUTH EAST REGION  2011      1     4   \n",
       "3 -36.736139   BENDIGO                 NORTHERN REGION  2011      1     1   \n",
       "4 -37.878448      KNOX  METROPOLITAN SOUTH EAST REGION  2011      1    11   \n",
       "\n",
       "   minute  \n",
       "0       6  \n",
       "1      15  \n",
       "2      28  \n",
       "3       7  \n",
       "4      54  "
      ]
     },
     "execution_count": 14,
     "metadata": {},
     "output_type": "execute_result"
    }
   ],
   "source": [
    "project.head(5)"
   ]
  },
  {
   "cell_type": "code",
   "execution_count": 15,
   "metadata": {},
   "outputs": [
    {
     "name": "stdout",
     "output_type": "stream",
     "text": [
      "<class 'pandas.core.frame.DataFrame'>\n",
      "RangeIndex: 25484 entries, 0 to 25483\n",
      "Data columns (total 15 columns):\n",
      "date               25484 non-null datetime64[ns]\n",
      "time               25484 non-null object\n",
      "accident_type      25484 non-null object\n",
      "light_condition    25484 non-null object\n",
      "road_geometry      25484 non-null object\n",
      "severity_type      25484 non-null object\n",
      "speed_zone         25484 non-null int64\n",
      "longitude          25484 non-null float64\n",
      "latitude           25484 non-null float64\n",
      "local_gov          25484 non-null object\n",
      "region             25484 non-null object\n",
      "year               25484 non-null int64\n",
      "month              25484 non-null int64\n",
      "hour               25484 non-null int64\n",
      "minute             25484 non-null int64\n",
      "dtypes: datetime64[ns](1), float64(2), int64(5), object(7)\n",
      "memory usage: 2.9+ MB\n"
     ]
    }
   ],
   "source": [
    "project.info() # no need to output this line, it can be deleted. (Useless)"
   ]
  },
  {
   "cell_type": "markdown",
   "metadata": {},
   "source": []
  },
  {
   "cell_type": "markdown",
   "metadata": {},
   "source": [
    "# 2. Accident data visualization"
   ]
  },
  {
   "cell_type": "markdown",
   "metadata": {},
   "source": [
    "### 2.1 lets look at the bar chart and trend"
   ]
  },
  {
   "cell_type": "code",
   "execution_count": 70,
   "metadata": {
    "scrolled": true
   },
   "outputs": [
    {
     "data": {
      "image/png": "[encoded data removed]",
      "text/plain": [
       "<matplotlib.figure.Figure at 0x21378ab94e0>"
      ]
     },
     "metadata": {},
     "output_type": "display_data"
    }
   ],
   "source": [
    "plt.figure(figsize=(16,8))\n",
    "sns.set_style('whitegrid')\n",
    "plt.title('Grouping Severity by Speed Zone', fontsize=20, fontweight='bold', y=1.05)\n",
    "ax = sns.countplot(x=\"severity_type\", hue='severity_type', data=project)"
   ]
  },
  {
   "cell_type": "code",
   "execution_count": 54,
   "metadata": {
    "collapsed": true
   },
   "outputs": [
    {
     "data": {
      "image/png": "[encoded data removed]",
      "text/plain": [
       "<matplotlib.figure.Figure at 0x21378e5d828>"
      ]
     },
     "metadata": {},
     "output_type": "display_data"
    }
   ],
   "source": [
    "plt.figure(figsize=(16,8))\n",
    "sns.set_style('whitegrid')\n",
    "plt.title('Grouping Severity by Light Condition', fontsize=20, fontweight='bold', y=1.05)\n",
    "ax = sns.countplot(x=\"light_condition\", hue='severity_type', data=project)"
   ]
  },
  {
   "cell_type": "markdown",
   "metadata": {},
   "source": [
    "#### NOTE: Let's group the data on basis of type of accident, sum up the number of accidents in all type and sort descendingly. then mark the regions on the map "
   ]
  },
  {
   "cell_type": "code",
   "execution_count": 47,
   "metadata": {
    "scrolled": true
   },
   "outputs": [
    {
     "data": {
      "text/plain": [
       "accident_type\n",
       "Collision with a fixed object         4188\n",
       "Collision with some other object       203\n",
       "Collision with vehicle               15902\n",
       "Fall from or in moving vehicle         275\n",
       "No collision and no object struck     1235\n",
       "Other accident                           9\n",
       "Struck animal                          208\n",
       "Struck pedestrian                     2478\n",
       "Vehicle overturned (no collision)      986\n",
       "dtype: int64"
      ]
     },
     "execution_count": 47,
     "metadata": {},
     "output_type": "execute_result"
    }
   ],
   "source": [
    "project.groupby(['accident_type']).size()"
   ]
  },
  {
   "cell_type": "code",
   "execution_count": 48,
   "metadata": {},
   "outputs": [
    {
     "data": {
      "application/vnd.plotly.v1+json": {
       "data": [
        {
         "marker": {
          "color": [
           0,
           1,
           2,
           3,
           4,
           5,
           6,
           7,
           8,
           9,
           10,
           11,
           12,
           13,
           14,
           15,
           16,
           17,
           18,
           19,
           20
          ],
          "colorscale": "Jet",
          "line": {
           "color": "rgb(0, 0, 0)",
           "width": 1
          }
         },
         "name": "Type of Accident",
         "opacity": 0.6,
         "type": "bar",
         "x": [
          "accident_type"
         ],
         "y": "accident"
        }
       ],
       "layout": {
        "barmode": "stack",
        "height": 500,
        "margin": {
         "b": 120,
         "l": 75,
         "pad": 10,
         "r": 75,
         "t": 100
        },
        "paper_bgcolor": "rgb(244, 238, 225)",
        "plot_bgcolor": "rgb(244, 238, 225)",
        "title": "Accident on Different Collision Type",
        "titlefont": {
         "size": 25
        },
        "width": 850,
        "yaxis": {
         "anchor": "x",
         "rangemode": "tozero",
         "title": "Number of Accident"
        }
       }
      },
      "text/html": [
       "<div id=\"bfc2802c-c1f5-48af-928a-3d276dceb8fb\" style=\"height: 500px; width: 850px;\" class=\"plotly-graph-div\"></div><script type=\"text/javascript\">require([\"plotly\"], function(Plotly) { window.PLOTLYENV=window.PLOTLYENV || {};window.PLOTLYENV.BASE_URL=\"https://plot.ly\";Plotly.newPlot(\"bfc2802c-c1f5-48af-928a-3d276dceb8fb\", [{\"type\": \"bar\", \"x\": [\"accident_type\"], \"y\": \"accident\", \"name\": \"Type of Accident\", \"marker\": {\"color\": [0, 1, 2, 3, 4, 5, 6, 7, 8, 9, 10, 11, 12, 13, 14, 15, 16, 17, 18, 19, 20], \"colorscale\": \"Jet\", \"line\": {\"color\": \"rgb(0, 0, 0)\", \"width\": 1}}, \"opacity\": 0.6}], {\"barmode\": \"stack\", \"title\": \"Accident on Different Collision Type\", \"titlefont\": {\"size\": 25}, \"width\": 850, \"height\": 500, \"margin\": {\"l\": 75, \"r\": 75, \"b\": 120, \"t\": 100, \"pad\": 10}, \"paper_bgcolor\": \"rgb(244, 238, 225)\", \"plot_bgcolor\": \"rgb(244, 238, 225)\", \"yaxis\": {\"title\": \"Number of Accident\", \"anchor\": \"x\", \"rangemode\": \"tozero\"}}, {\"showLink\": true, \"linkText\": \"Export to plot.ly\"})});</script>"
      ],
      "text/vnd.plotly.v1+html": [
       "<div id=\"bfc2802c-c1f5-48af-928a-3d276dceb8fb\" style=\"height: 500px; width: 850px;\" class=\"plotly-graph-div\"></div><script type=\"text/javascript\">require([\"plotly\"], function(Plotly) { window.PLOTLYENV=window.PLOTLYENV || {};window.PLOTLYENV.BASE_URL=\"https://plot.ly\";Plotly.newPlot(\"bfc2802c-c1f5-48af-928a-3d276dceb8fb\", [{\"type\": \"bar\", \"x\": [\"accident_type\"], \"y\": \"accident\", \"name\": \"Type of Accident\", \"marker\": {\"color\": [0, 1, 2, 3, 4, 5, 6, 7, 8, 9, 10, 11, 12, 13, 14, 15, 16, 17, 18, 19, 20], \"colorscale\": \"Jet\", \"line\": {\"color\": \"rgb(0, 0, 0)\", \"width\": 1}}, \"opacity\": 0.6}], {\"barmode\": \"stack\", \"title\": \"Accident on Different Collision Type\", \"titlefont\": {\"size\": 25}, \"width\": 850, \"height\": 500, \"margin\": {\"l\": 75, \"r\": 75, \"b\": 120, \"t\": 100, \"pad\": 10}, \"paper_bgcolor\": \"rgb(244, 238, 225)\", \"plot_bgcolor\": \"rgb(244, 238, 225)\", \"yaxis\": {\"title\": \"Number of Accident\", \"anchor\": \"x\", \"rangemode\": \"tozero\"}}, {\"showLink\": true, \"linkText\": \"Export to plot.ly\"})});</script>"
      ]
     },
     "metadata": {},
     "output_type": "display_data"
    }
   ],
   "source": [
    "trace1 = go.Bar(\n",
    "    x = ['accident_type'],\n",
    "    y = 'accident',\n",
    "    name='Type of Accident',\n",
    "    marker=dict(\n",
    "        color=[0, 1, 2, 3, 4, 5, 6, 7, 8, 9, 10, 11, 12, 13, 14, 15, 16, 17, 18, 19, 20],\n",
    "        colorscale='Jet',\n",
    "        line=dict(\n",
    "            color='rgb(0, 0, 0)',\n",
    "            width=1\n",
    "        )\n",
    "    ),\n",
    "    opacity=0.6\n",
    ")\n",
    "\n",
    "data = [trace1]\n",
    "\n",
    "layout = go.Layout(\n",
    "    barmode='stack',\n",
    "    title = 'Accident on Different Collision Type',\n",
    "    titlefont=dict(size=25),\n",
    "    width=850,\n",
    "    height=500,\n",
    "    margin=go.Margin(\n",
    "        l=75,\n",
    "        r=75,\n",
    "        b=120,\n",
    "        t=100,\n",
    "        pad=10\n",
    "    ),\n",
    "    paper_bgcolor='rgb(244, 238, 225)',\n",
    "    plot_bgcolor='rgb(244, 238, 225)',\n",
    "    yaxis = dict(\n",
    "        title= 'Number of Accident',\n",
    "        anchor = 'x',\n",
    "        rangemode='tozero'\n",
    "    ),\n",
    ")\n",
    "\n",
    "fig = go.Figure(data=data, layout=layout)\n",
    "py.iplot(fig)"
   ]
  },
  {
   "cell_type": "code",
   "execution_count": 31,
   "metadata": {},
   "outputs": [
    {
     "data": {
      "image/png": "[encoded data removed]",
      "text/plain": [
       "<matplotlib.figure.Figure at 0x20f6939e8d0>"
      ]
     },
     "metadata": {},
     "output_type": "display_data"
    }
   ],
   "source": [
    "# Set up matplotlib figure\n",
    "f, axes = plt.subplots(ncols=2, figsize=(15,6))"
   ]
  },
  {
   "cell_type": "markdown",
   "metadata": {
    "collapsed": true
   },
   "source": [
    "#### Number of fatal accident per month "
   ]
  },
  {
   "cell_type": "code",
   "execution_count": 52,
   "metadata": {},
   "outputs": [
    {
     "ename": "NameError",
     "evalue": "name 'pl' is not defined",
     "output_type": "error",
     "traceback": [
      "\u001b[1;31m---------------------------------------------------------------------------\u001b[0m",
      "\u001b[1;31mNameError\u001b[0m                                 Traceback (most recent call last)",
      "\u001b[1;32m<ipython-input-52-898df7f1cb47>\u001b[0m in \u001b[0;36m<module>\u001b[1;34m()\u001b[0m\n\u001b[1;32m----> 1\u001b[1;33m \u001b[0mpl\u001b[0m\u001b[1;33m\u001b[0m\u001b[0m\n\u001b[0m",
      "\u001b[1;31mNameError\u001b[0m: name 'pl' is not defined"
     ]
    }
   ],
   "source": [
    "pl"
   ]
  },
  {
   "cell_type": "code",
   "execution_count": null,
   "metadata": {
    "collapsed": true
   },
   "outputs": [],
   "source": [
    "trace1 = go.Bar(\n",
    "    x = players_value[\"Name\"].tolist(),\n",
    "    y = players_value[\"Overall\"].tolist(),\n",
    "    name='Overall',\n",
    "    marker=dict(\n",
    "        color='rgba(55, 128, 191, 0.7)',\n",
    "        line=dict(\n",
    "            color='rgba(55, 128, 191, 1.0)',\n",
    "            width=2,\n",
    "        )\n",
    "    )\n",
    ")\n",
    "\n",
    "trace2 = go.Bar(\n",
    "    x = players_value[\"Name\"].tolist(),\n",
    "    y = players_value[\"PotentialPoints\"].tolist(),\n",
    "    name='Potential',\n",
    "    marker=dict(\n",
    "        color='rgba(219, 64, 82, 0.7)',\n",
    "        line=dict(\n",
    "            color='rgba(219, 64, 82, 1.0)',\n",
    "            width=2,\n",
    "        )\n",
    "    )\n",
    ")\n",
    "\n",
    "trace3 = go.Scatter(\n",
    "    x = players_value[\"Name\"].tolist(),\n",
    "    y = (players_value[\"ValueNum\"] / 1000000).tolist(),\n",
    "    name='Value [M€]',\n",
    "    mode = 'lines+markers',\n",
    "    yaxis='y2'\n",
    ")\n",
    "\n",
    "data = [trace1, trace2,trace3]\n",
    "\n",
    "layout = go.Layout(\n",
    "    barmode='stack',\n",
    "    title = 'Number of accident per month',\n",
    "    titlefont=dict(size=25),\n",
    "    width=850,\n",
    "    height=500,\n",
    "    paper_bgcolor='rgb(244, 238, 225)',\n",
    "    plot_bgcolor='rgb(244, 238, 225)',\n",
    "    yaxis = dict(\n",
    "        title= 'No. of Accident',\n",
    "        anchor = 'x',\n",
    "        rangemode='tozero'\n",
    "    ),\n",
    "    xaxis = dict(title= 'Month'),\n",
    "    yaxis2=dict(\n",
    "        title='Value [M€]',\n",
    "        titlefont=dict(\n",
    "            color='rgb(148, 103, 189)'\n",
    "        ),\n",
    "        tickfont=dict(\n",
    "            color='rgb(148, 103, 189)'\n",
    "        ),\n",
    "        overlaying='y',\n",
    "        side='right',\n",
    "        anchor = 'x',\n",
    "        rangemode = 'tozero',\n",
    "        dtick = 20\n",
    "    ),\n",
    "    legend=dict(x=0.05, y=0.05)\n",
    ")\n",
    "\n",
    "fig = go.Figure(data=data, layout=layout)\n",
    "py.iplot(fig)"
   ]
  },
  {
   "cell_type": "markdown",
   "metadata": {},
   "source": [
    "#### 2.5 Bird's eye view of Victoria Map"
   ]
  },
  {
   "cell_type": "code",
   "execution_count": 32,
   "metadata": {},
   "outputs": [
    {
     "ename": "NameError",
     "evalue": "name 'full_data' is not defined",
     "output_type": "error",
     "traceback": [
      "\u001b[1;31m---------------------------------------------------------------------------\u001b[0m",
      "\u001b[1;31mNameError\u001b[0m                                 Traceback (most recent call last)",
      "\u001b[1;32m<ipython-input-32-9fa1f8c0fab3>\u001b[0m in \u001b[0;36m<module>\u001b[1;34m()\u001b[0m\n\u001b[0;32m      1\u001b[0m \u001b[1;31m# Creating DataFrame containing cities with the highiest number of workplaces\u001b[0m\u001b[1;33m\u001b[0m\u001b[1;33m\u001b[0m\u001b[0m\n\u001b[1;32m----> 2\u001b[1;33m \u001b[0mtop_industry\u001b[0m \u001b[1;33m=\u001b[0m \u001b[0mfull_data\u001b[0m\u001b[1;33m.\u001b[0m\u001b[0msort_values\u001b[0m\u001b[1;33m(\u001b[0m\u001b[0mby\u001b[0m\u001b[1;33m=\u001b[0m\u001b[1;33m[\u001b[0m\u001b[1;34m\"Sum\"\u001b[0m\u001b[1;33m]\u001b[0m\u001b[1;33m,\u001b[0m \u001b[0mascending\u001b[0m\u001b[1;33m=\u001b[0m\u001b[1;32mFalse\u001b[0m\u001b[1;33m)\u001b[0m\u001b[1;33m.\u001b[0m\u001b[0mhead\u001b[0m\u001b[1;33m(\u001b[0m\u001b[1;36m10\u001b[0m\u001b[1;33m)\u001b[0m\u001b[1;33m\u001b[0m\u001b[0m\n\u001b[0m\u001b[0;32m      3\u001b[0m \u001b[1;33m\u001b[0m\u001b[0m\n\u001b[0;32m      4\u001b[0m \u001b[1;31m# Preparing information to mark cities with highiest number of workplaces\u001b[0m\u001b[1;33m\u001b[0m\u001b[1;33m\u001b[0m\u001b[0m\n\u001b[0;32m      5\u001b[0m \u001b[0mtop_industry_names\u001b[0m \u001b[1;33m=\u001b[0m \u001b[0mtop_industry\u001b[0m\u001b[1;33m[\u001b[0m\u001b[1;34m\"LIBGEO\"\u001b[0m\u001b[1;33m]\u001b[0m\u001b[1;33m.\u001b[0m\u001b[0mvalues\u001b[0m\u001b[1;33m.\u001b[0m\u001b[0mtolist\u001b[0m\u001b[1;33m(\u001b[0m\u001b[1;33m)\u001b[0m\u001b[1;33m\u001b[0m\u001b[0m\n",
      "\u001b[1;31mNameError\u001b[0m: name 'full_data' is not defined"
     ]
    }
   ],
   "source": [
    "# Creating DataFrame containing cities with the highiest number of workplaces\n",
    "top_industry = full_data.sort_values(by=[\"Sum\"], ascending=False).head(10)\n",
    "\n",
    "# Preparing information to mark cities with highiest number of workplaces\n",
    "top_industry_names = top_industry[\"LIBGEO\"].values.tolist()\n",
    "top_industry_lons = top_industry[\"longitude\"].values.tolist()\n",
    "top_industry_lats = top_industry[\"latitude\"].values.tolist()\n",
    "\n",
    "lons = full_data[\"longitude\"].values.tolist()\n",
    "lats = full_data[\"latitude\"].values.tolist()\n",
    "size = (full_data[\"Sum\"]/5).values.tolist()"
   ]
  },
  {
   "cell_type": "code",
   "execution_count": 27,
   "metadata": {},
   "outputs": [
    {
     "ename": "NameError",
     "evalue": "name 'Basemap' is not defined",
     "output_type": "error",
     "traceback": [
      "\u001b[1;31m---------------------------------------------------------------------------\u001b[0m",
      "\u001b[1;31mNameError\u001b[0m                                 Traceback (most recent call last)",
      "\u001b[1;32m<ipython-input-27-b758d448ac3c>\u001b[0m in \u001b[0;36m<module>\u001b[1;34m()\u001b[0m\n\u001b[0;32m      2\u001b[0m \u001b[0mplt\u001b[0m\u001b[1;33m.\u001b[0m\u001b[0mfigure\u001b[0m\u001b[1;33m(\u001b[0m\u001b[0mfigsize\u001b[0m\u001b[1;33m=\u001b[0m\u001b[1;33m(\u001b[0m\u001b[1;36m20\u001b[0m\u001b[1;33m,\u001b[0m\u001b[1;36m20\u001b[0m\u001b[1;33m)\u001b[0m\u001b[1;33m)\u001b[0m\u001b[1;33m\u001b[0m\u001b[0m\n\u001b[0;32m      3\u001b[0m \u001b[1;31m# Load map of France\u001b[0m\u001b[1;33m\u001b[0m\u001b[1;33m\u001b[0m\u001b[0m\n\u001b[1;32m----> 4\u001b[1;33m map = Basemap(projection='lcc', \n\u001b[0m\u001b[0;32m      5\u001b[0m             \u001b[0mlat_0\u001b[0m\u001b[1;33m=\u001b[0m\u001b[1;36m46.2374\u001b[0m\u001b[1;33m,\u001b[0m\u001b[1;33m\u001b[0m\u001b[0m\n\u001b[0;32m      6\u001b[0m             \u001b[0mlon_0\u001b[0m\u001b[1;33m=\u001b[0m\u001b[1;36m2.375\u001b[0m\u001b[1;33m,\u001b[0m\u001b[1;33m\u001b[0m\u001b[0m\n",
      "\u001b[1;31mNameError\u001b[0m: name 'Basemap' is not defined"
     ]
    },
    {
     "data": {
      "text/plain": [
       "<matplotlib.figure.Figure at 0x20f693c0828>"
      ]
     },
     "metadata": {},
     "output_type": "display_data"
    }
   ],
   "source": [
    "# Creating new plot\n",
    "plt.figure(figsize=(20,20))\n",
    "# Load map of France\n",
    "map = Basemap(projection='lcc', \n",
    "            lat_0=46.2374,\n",
    "            lon_0=2.375,\n",
    "            resolution='h',\n",
    "            llcrnrlon=-4.76, llcrnrlat=41.39,\n",
    "            urcrnrlon=10.51, urcrnrlat=51.08)\n",
    "\n",
    "# Draw parallels.\n",
    "parallels = np.arange(40.,52,2.)\n",
    "map.drawparallels(parallels,labels=[1,0,0,0],fontsize=10)\n",
    "# Draw meridians\n",
    "meridians = np.arange(-6.,10.,2.)\n",
    "map.drawmeridians(meridians,labels=[0,0,0,1],fontsize=10)\n",
    "\n",
    "map.drawcoastlines()\n",
    "map.drawcountries()\n",
    "map.drawmapboundary()\n",
    "map.drawrivers()\n",
    "\n",
    "# Draw scatter plot with all cities\n",
    "x,y = map(lons, lats)\n",
    "map.scatter(x, y, s=size, alpha=0.6, c=size, norm=colors.LogNorm(vmin=1, vmax=max(size)), cmap='hsv')\n",
    "map.colorbar(location=\"bottom\", pad=\"4%\")\n",
    "\n",
    "# Draw scatter plot of cities with highiest number of workplaces\n",
    "x1, y1 = map(top_industry_lons, top_industry_lats)\n",
    "map.scatter(x1, y1, c=\"black\")\n",
    "\n",
    "for i in range(len(top_industry_names)):\n",
    "    plt.annotate(top_industry_names[i], xy=(map(top_industry_lons[i] + 0.25,  top_industry_lats[i])), fontsize=25)\n",
    "\n",
    "plt.title(\"French Industry from a bird's eye view\", fontsize=40, fontweight='bold', y=1.05)   \n",
    "\n",
    "plt.show()"
   ]
  },
  {
   "cell_type": "code",
   "execution_count": null,
   "metadata": {
    "collapsed": true
   },
   "outputs": [],
   "source": [
    "# Lets cut smaller cut of the map and focus on  French Riviera\n",
    "lons_min = 3\n",
    "lons_max = 8\n",
    "lats_min = 42.5\n",
    "lats_max = 45\n",
    "\n",
    "mask_lons = (full_data[\"longitude\"] > lons_min) & (full_data[\"longitude\"] < lons_max)\n",
    "mask_lats = (full_data[\"latitude\"] > lats_min) & (full_data[\"latitude\"] < lats_max)\n",
    "franch_riviera = full_data[mask_lons & mask_lats]\n",
    "\n",
    "lons = franch_riviera[\"longitude\"].values.tolist()\n",
    "lats = franch_riviera[\"latitude\"].values.tolist()\n",
    "size = (franch_riviera[\"Sum\"]/2).values.tolist()\n",
    "\n",
    "# Creating DataFrame containing cities with the highiest number of workplaces\n",
    "top_industry = franch_riviera.sort_values(by=[\"Sum\"], ascending=False).head(5)\n",
    "\n",
    "# Preparing information to mark cities with highiest number of workplaces\n",
    "top_industry_names = top_industry[\"LIBGEO\"].values.tolist()\n",
    "top_industry_lons = top_industry[\"longitude\"].values.tolist()\n",
    "top_industry_lats = top_industry[\"latitude\"].values.tolist()"
   ]
  },
  {
   "cell_type": "code",
   "execution_count": null,
   "metadata": {
    "collapsed": true
   },
   "outputs": [],
   "source": [
    "# Creating new plot\n",
    "plt.figure(figsize=(20,20))\n",
    "# Load map of France\n",
    "map = Basemap(projection='lcc', \n",
    "            lat_0=(lats_min + lats_max)/2,\n",
    "            lon_0=(lons_min + lons_max)/2,\n",
    "            resolution='h',\n",
    "            llcrnrlon=lons_min, llcrnrlat=lats_min,\n",
    "            urcrnrlon=lons_max, urcrnrlat=lats_max)\n",
    "\n",
    "# Draw parallels.\n",
    "parallels = np.arange(40.,52,2.)\n",
    "map.drawparallels(parallels,labels=[1,0,0,0],fontsize=10)\n",
    "# Draw meridians\n",
    "meridians = np.arange(-6.,10.,2.)\n",
    "map.drawmeridians(meridians,labels=[0,0,0,1],fontsize=10)\n",
    "\n",
    "map.drawcoastlines()\n",
    "map.drawcountries()\n",
    "map.drawmapboundary()\n",
    "map.drawrivers()\n",
    "\n",
    "# Draw scatter plot with all cities\n",
    "x,y = map(lons, lats)\n",
    "map.scatter(x, y, s=size, alpha=0.6, c=size, norm=colors.LogNorm(vmin=1, vmax=max(size)), cmap='hsv')\n",
    "map.colorbar(location=\"bottom\", pad=\"4%\")\n",
    "\n",
    "# Draw scatter plot of cities with highiest number of workplaces\n",
    "x1, y1 = map(top_industry_lons, top_industry_lats)\n",
    "map.scatter(x1, y1, c=\"black\")\n",
    "\n",
    "for i in range(len(top_industry_names)):\n",
    "    plt.annotate(top_industry_names[i], xy=(map(top_industry_lons[i] + 0.25,  top_industry_lats[i])), fontsize=25)\n",
    "\n",
    "plt.title(\"French Riviera\", fontsize=40, fontweight='bold', y=1.05)  \n",
    "\n",
    "plt.show()"
   ]
  },
  {
   "cell_type": "code",
   "execution_count": null,
   "metadata": {
    "collapsed": true
   },
   "outputs": [],
   "source": []
  },
  {
   "cell_type": "code",
   "execution_count": null,
   "metadata": {
    "collapsed": true
   },
   "outputs": [],
   "source": [
    "by_regions = full_data.merge(regions[[\"region_name\", \"region_rank\"]], how=\"left\", on=\"region_name\" )"
   ]
  },
  {
   "cell_type": "code",
   "execution_count": null,
   "metadata": {
    "collapsed": true
   },
   "outputs": [],
   "source": [
    "lons = by_regions[\"longitude\"].values.tolist()\n",
    "lats = by_regions[\"latitude\"].values.tolist()\n",
    "size = (by_regions[\"Sum\"]/5).values.tolist()\n",
    "region = by_regions[\"region_rank\"].values.tolist()"
   ]
  },
  {
   "cell_type": "code",
   "execution_count": 35,
   "metadata": {},
   "outputs": [
    {
     "ename": "NameError",
     "evalue": "name 'by_regions' is not defined",
     "output_type": "error",
     "traceback": [
      "\u001b[1;31m---------------------------------------------------------------------------\u001b[0m",
      "\u001b[1;31mNameError\u001b[0m                                 Traceback (most recent call last)",
      "\u001b[1;32m<ipython-input-35-eec0154fa70a>\u001b[0m in \u001b[0;36m<module>\u001b[1;34m()\u001b[0m\n\u001b[1;32m----> 1\u001b[1;33m \u001b[0mregions_capitals\u001b[0m \u001b[1;33m=\u001b[0m \u001b[0mby_regions\u001b[0m\u001b[1;33m[\u001b[0m\u001b[0mby_regions\u001b[0m\u001b[1;33m[\u001b[0m\u001b[1;34m\"region_capital\"\u001b[0m\u001b[1;33m]\u001b[0m \u001b[1;33m==\u001b[0m \u001b[0mby_regions\u001b[0m\u001b[1;33m[\u001b[0m\u001b[1;34m\"common_name\"\u001b[0m\u001b[1;33m]\u001b[0m\u001b[1;33m]\u001b[0m\u001b[1;33m\u001b[0m\u001b[0m\n\u001b[0m\u001b[0;32m      2\u001b[0m \u001b[1;33m\u001b[0m\u001b[0m\n\u001b[0;32m      3\u001b[0m \u001b[0mlons_capital\u001b[0m \u001b[1;33m=\u001b[0m \u001b[0mregions_capitals\u001b[0m\u001b[1;33m[\u001b[0m\u001b[1;34m\"longitude\"\u001b[0m\u001b[1;33m]\u001b[0m\u001b[1;33m.\u001b[0m\u001b[0mvalues\u001b[0m\u001b[1;33m.\u001b[0m\u001b[0mtolist\u001b[0m\u001b[1;33m(\u001b[0m\u001b[1;33m)\u001b[0m\u001b[1;33m\u001b[0m\u001b[0m\n\u001b[0;32m      4\u001b[0m \u001b[0mlats_capital\u001b[0m \u001b[1;33m=\u001b[0m \u001b[0mregions_capitals\u001b[0m\u001b[1;33m[\u001b[0m\u001b[1;34m\"latitude\"\u001b[0m\u001b[1;33m]\u001b[0m\u001b[1;33m.\u001b[0m\u001b[0mvalues\u001b[0m\u001b[1;33m.\u001b[0m\u001b[0mtolist\u001b[0m\u001b[1;33m(\u001b[0m\u001b[1;33m)\u001b[0m\u001b[1;33m\u001b[0m\u001b[0m\n\u001b[0;32m      5\u001b[0m \u001b[0mnames_region\u001b[0m \u001b[1;33m=\u001b[0m \u001b[0mregions_capitals\u001b[0m\u001b[1;33m[\u001b[0m\u001b[1;34m\"region_name\"\u001b[0m\u001b[1;33m]\u001b[0m\u001b[1;33m.\u001b[0m\u001b[0mvalues\u001b[0m\u001b[1;33m.\u001b[0m\u001b[0mtolist\u001b[0m\u001b[1;33m(\u001b[0m\u001b[1;33m)\u001b[0m\u001b[1;33m\u001b[0m\u001b[0m\n",
      "\u001b[1;31mNameError\u001b[0m: name 'by_regions' is not defined"
     ]
    }
   ],
   "source": [
    "regions_capitals = by_regions[by_regions[\"region_capital\"] == by_regions[\"common_name\"]]\n",
    "\n",
    "lons_capital = regions_capitals[\"longitude\"].values.tolist()\n",
    "lats_capital = regions_capitals[\"latitude\"].values.tolist()\n",
    "names_region = regions_capitals[\"region_name\"].values.tolist()"
   ]
  },
  {
   "cell_type": "code",
   "execution_count": null,
   "metadata": {
    "collapsed": true
   },
   "outputs": [],
   "source": [
    "# Creating new plot\n",
    "plt.figure(figsize=(20,20))\n",
    "# Load map of France\n",
    "map = Basemap(projection='lcc', \n",
    "            lat_0=46.2374,\n",
    "            lon_0=2.375,\n",
    "            resolution='h',\n",
    "            llcrnrlon=-4.76, llcrnrlat=41.39,\n",
    "            urcrnrlon=10.51, urcrnrlat=51.08)\n",
    "\n",
    "# Draw parallels.\n",
    "parallels = np.arange(40.,52,2.)\n",
    "map.drawparallels(parallels,labels=[1,0,0,0],fontsize=10)\n",
    "# Draw meridians\n",
    "meridians = np.arange(-6.,10.,2.)\n",
    "map.drawmeridians(meridians,labels=[0,0,0,1],fontsize=10)\n",
    "\n",
    "map.drawcoastlines()\n",
    "map.drawcountries()\n",
    "map.drawmapboundary()\n",
    "map.drawrivers()\n",
    "\n",
    "# Draw scatter plot with all cities\n",
    "x,y = map(lons, lats)\n",
    "map.scatter(x, y, s=size, alpha=0.6, c=region, cmap='jet')\n",
    "map.colorbar(location=\"bottom\", pad=\"4%\")\n",
    "\n",
    "# Draw scatter plot of cities with highiest number of workplaces\n",
    "x1, y1 = map(lons_capital, lats_capital)\n",
    "map.scatter(x1, y1, c=\"black\")\n",
    "\n",
    "for i in range(len(names_region)):\n",
    "    plt.annotate(names_region[i], xy=(map(lons_capital[i] - 0.07 * len(names_region[i]),  lats_capital[i] + 0.2)), fontsize=18)\n",
    "\n",
    "plt.title(\"Regions with the highiest number of workplaces\", fontsize=30, fontweight='bold', y=1.05)   \n",
    "\n",
    "plt.show()"
   ]
  }
 ],
 "metadata": {
  "kernelspec": {
   "display_name": "Python 3",
   "language": "python",
   "name": "python3"
  },
  "language_info": {
   "codemirror_mode": {
    "name": "ipython",
    "version": 3
   },
   "file_extension": ".py",
   "mimetype": "text/x-python",
   "name": "python",
   "nbconvert_exporter": "python",
   "pygments_lexer": "ipython3",
   "version": "3.6.2"
  }
 },
 "nbformat": 4,
 "nbformat_minor": 2
}
